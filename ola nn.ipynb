{
 "cells": [
  {
   "cell_type": "code",
   "execution_count": 1,
   "id": "6e81875a-3fad-4766-a39a-6c50f1055f34",
   "metadata": {},
   "outputs": [],
   "source": [
    "import pandas as pd\n",
    "import numpy as np\n",
    "import time\n",
    "\n",
    "import re\n",
    "import nltk\n",
    "from nltk.corpus import stopwords\n",
    "from nltk.tokenize import word_tokenize\n",
    "from nltk.stem import WordNetLemmatizer\n",
    "\n",
    "from sklearn.feature_extraction.text import TfidfVectorizer\n",
    "from collections import Counter\n",
    "\n",
    "from sklearn.model_selection import train_test_split\n",
    "from sklearn.metrics import accuracy_score, classification_report\n",
    "import tensorflow as tf\n",
    "from tensorflow.keras.models import Sequential\n",
    "from tensorflow.keras.layers import Dense, Dropout\n",
    "from sklearn.preprocessing import LabelEncoder\n",
    "from tensorflow.keras.utils import to_categorical"
   ]
  },
  {
   "cell_type": "code",
   "execution_count": 2,
   "id": "fa5a5187-9d83-4103-8fb6-e080f769a1bf",
   "metadata": {},
   "outputs": [],
   "source": [
    "# Load the full dataset\n",
    "df = pd.read_csv('olareviews.csv', low_memory=False)"
   ]
  },
  {
   "cell_type": "code",
   "execution_count": 3,
   "id": "5cd552a2-1cdd-48a7-ad45-04214e045017",
   "metadata": {},
   "outputs": [
    {
     "data": {
      "text/html": [
       "<div>\n",
       "<style scoped>\n",
       "    .dataframe tbody tr th:only-of-type {\n",
       "        vertical-align: middle;\n",
       "    }\n",
       "\n",
       "    .dataframe tbody tr th {\n",
       "        vertical-align: top;\n",
       "    }\n",
       "\n",
       "    .dataframe thead th {\n",
       "        text-align: right;\n",
       "    }\n",
       "</style>\n",
       "<table border=\"1\" class=\"dataframe\">\n",
       "  <thead>\n",
       "    <tr style=\"text-align: right;\">\n",
       "      <th></th>\n",
       "      <th>Unnamed: 0</th>\n",
       "      <th>reviewId</th>\n",
       "      <th>userName</th>\n",
       "      <th>userImage</th>\n",
       "      <th>content</th>\n",
       "      <th>score</th>\n",
       "      <th>thumbsUpCount</th>\n",
       "      <th>reviewCreatedVersion</th>\n",
       "      <th>at</th>\n",
       "      <th>replyContent</th>\n",
       "      <th>repliedAt</th>\n",
       "    </tr>\n",
       "  </thead>\n",
       "  <tbody>\n",
       "    <tr>\n",
       "      <th>0</th>\n",
       "      <td>0.0</td>\n",
       "      <td>f64f8374-6302-42b2-b853-98012d9c6e78</td>\n",
       "      <td>2213mehakjot Kaur9e</td>\n",
       "      <td>https://play-lh.googleusercontent.com/a/AGNmyx...</td>\n",
       "      <td>you have started an option of auto but it is n...</td>\n",
       "      <td>1.0</td>\n",
       "      <td>0.0</td>\n",
       "      <td>5.8.1</td>\n",
       "      <td>3/24/2023 11:04</td>\n",
       "      <td>NaN</td>\n",
       "      <td>NaN</td>\n",
       "    </tr>\n",
       "    <tr>\n",
       "      <th>1</th>\n",
       "      <td>1.0</td>\n",
       "      <td>57f7056b-588b-43c2-8278-eed057738c78</td>\n",
       "      <td>Mahesh Mahi</td>\n",
       "      <td>https://play-lh.googleusercontent.com/a-/ACB-R...</td>\n",
       "      <td>Super</td>\n",
       "      <td>5.0</td>\n",
       "      <td>0.0</td>\n",
       "      <td>6.1.5</td>\n",
       "      <td>3/24/2023 11:00</td>\n",
       "      <td>NaN</td>\n",
       "      <td>NaN</td>\n",
       "    </tr>\n",
       "    <tr>\n",
       "      <th>2</th>\n",
       "      <td>2.0</td>\n",
       "      <td>cc569be8-6fd8-49be-8689-18e0db1ce2f7</td>\n",
       "      <td>poonam Sharma</td>\n",
       "      <td>https://play-lh.googleusercontent.com/a-/ACB-R...</td>\n",
       "      <td>Good 😊</td>\n",
       "      <td>5.0</td>\n",
       "      <td>0.0</td>\n",
       "      <td>6.1.5</td>\n",
       "      <td>3/24/2023 10:52</td>\n",
       "      <td>NaN</td>\n",
       "      <td>NaN</td>\n",
       "    </tr>\n",
       "    <tr>\n",
       "      <th>3</th>\n",
       "      <td>3.0</td>\n",
       "      <td>ef1f9c19-717e-4cd0-a458-ea577ac33489</td>\n",
       "      <td>kids Orignal</td>\n",
       "      <td>https://play-lh.googleusercontent.com/a-/ACB-R...</td>\n",
       "      <td>Bakwas app login is not safe</td>\n",
       "      <td>1.0</td>\n",
       "      <td>0.0</td>\n",
       "      <td>6.1.5</td>\n",
       "      <td>3/24/2023 10:29</td>\n",
       "      <td>NaN</td>\n",
       "      <td>NaN</td>\n",
       "    </tr>\n",
       "    <tr>\n",
       "      <th>4</th>\n",
       "      <td>4.0</td>\n",
       "      <td>75d1193d-51ed-4c7b-88fa-4dd951c4f68f</td>\n",
       "      <td>Ankur Garg</td>\n",
       "      <td>https://play-lh.googleusercontent.com/a-/ACB-R...</td>\n",
       "      <td>Worst app, they charge cancellation fee even w...</td>\n",
       "      <td>1.0</td>\n",
       "      <td>0.0</td>\n",
       "      <td>NaN</td>\n",
       "      <td>3/24/2023 9:48</td>\n",
       "      <td>NaN</td>\n",
       "      <td>NaN</td>\n",
       "    </tr>\n",
       "  </tbody>\n",
       "</table>\n",
       "</div>"
      ],
      "text/plain": [
       "   Unnamed: 0                              reviewId             userName  \\\n",
       "0         0.0  f64f8374-6302-42b2-b853-98012d9c6e78  2213mehakjot Kaur9e   \n",
       "1         1.0  57f7056b-588b-43c2-8278-eed057738c78          Mahesh Mahi   \n",
       "2         2.0  cc569be8-6fd8-49be-8689-18e0db1ce2f7        poonam Sharma   \n",
       "3         3.0  ef1f9c19-717e-4cd0-a458-ea577ac33489         kids Orignal   \n",
       "4         4.0  75d1193d-51ed-4c7b-88fa-4dd951c4f68f           Ankur Garg   \n",
       "\n",
       "                                           userImage  \\\n",
       "0  https://play-lh.googleusercontent.com/a/AGNmyx...   \n",
       "1  https://play-lh.googleusercontent.com/a-/ACB-R...   \n",
       "2  https://play-lh.googleusercontent.com/a-/ACB-R...   \n",
       "3  https://play-lh.googleusercontent.com/a-/ACB-R...   \n",
       "4  https://play-lh.googleusercontent.com/a-/ACB-R...   \n",
       "\n",
       "                                             content  score  thumbsUpCount  \\\n",
       "0  you have started an option of auto but it is n...    1.0            0.0   \n",
       "1                                              Super    5.0            0.0   \n",
       "2                                             Good 😊    5.0            0.0   \n",
       "3                       Bakwas app login is not safe    1.0            0.0   \n",
       "4  Worst app, they charge cancellation fee even w...    1.0            0.0   \n",
       "\n",
       "  reviewCreatedVersion               at replyContent repliedAt  \n",
       "0                5.8.1  3/24/2023 11:04          NaN       NaN  \n",
       "1                6.1.5  3/24/2023 11:00          NaN       NaN  \n",
       "2                6.1.5  3/24/2023 10:52          NaN       NaN  \n",
       "3                6.1.5  3/24/2023 10:29          NaN       NaN  \n",
       "4                  NaN   3/24/2023 9:48          NaN       NaN  "
      ]
     },
     "execution_count": 3,
     "metadata": {},
     "output_type": "execute_result"
    }
   ],
   "source": [
    "df.head()"
   ]
  },
  {
   "cell_type": "code",
   "execution_count": 4,
   "id": "9dedde96-8b3b-4ff0-96f2-fd40b8169362",
   "metadata": {},
   "outputs": [
    {
     "data": {
      "text/plain": [
       "Index(['Unnamed: 0', 'reviewId', 'userName', 'userImage', 'content', 'score',\n",
       "       'thumbsUpCount', 'reviewCreatedVersion', 'at', 'replyContent',\n",
       "       'repliedAt'],\n",
       "      dtype='object')"
      ]
     },
     "execution_count": 4,
     "metadata": {},
     "output_type": "execute_result"
    }
   ],
   "source": [
    "df.columns"
   ]
  },
  {
   "cell_type": "code",
   "execution_count": 5,
   "id": "8fa2b2bb-21a0-40fd-bf37-05d83c510d75",
   "metadata": {},
   "outputs": [],
   "source": [
    "# dropping unwanted columns\n",
    "df.drop(['Unnamed: 0', 'reviewId', 'userName', 'userImage', 'thumbsUpCount', 'reviewCreatedVersion', 'at', 'replyContent', 'repliedAt'], axis = 1, inplace = True)"
   ]
  },
  {
   "cell_type": "code",
   "execution_count": 6,
   "id": "43eb0d8a-8f34-4636-9cd2-3597060e62b8",
   "metadata": {},
   "outputs": [],
   "source": [
    "df.dropna(inplace=True)"
   ]
  },
  {
   "cell_type": "code",
   "execution_count": 7,
   "id": "8b046e64-2a38-40c7-84e4-b0efd4b31e8d",
   "metadata": {},
   "outputs": [],
   "source": [
    "df['score'] = df['score'].astype('int')"
   ]
  },
  {
   "cell_type": "code",
   "execution_count": 8,
   "id": "1738af92-de39-433d-a295-9aa153925895",
   "metadata": {},
   "outputs": [
    {
     "data": {
      "text/html": [
       "<div>\n",
       "<style scoped>\n",
       "    .dataframe tbody tr th:only-of-type {\n",
       "        vertical-align: middle;\n",
       "    }\n",
       "\n",
       "    .dataframe tbody tr th {\n",
       "        vertical-align: top;\n",
       "    }\n",
       "\n",
       "    .dataframe thead th {\n",
       "        text-align: right;\n",
       "    }\n",
       "</style>\n",
       "<table border=\"1\" class=\"dataframe\">\n",
       "  <thead>\n",
       "    <tr style=\"text-align: right;\">\n",
       "      <th></th>\n",
       "      <th>content</th>\n",
       "      <th>score</th>\n",
       "    </tr>\n",
       "  </thead>\n",
       "  <tbody>\n",
       "    <tr>\n",
       "      <th>0</th>\n",
       "      <td>you have started an option of auto but it is n...</td>\n",
       "      <td>1</td>\n",
       "    </tr>\n",
       "    <tr>\n",
       "      <th>1</th>\n",
       "      <td>Super</td>\n",
       "      <td>5</td>\n",
       "    </tr>\n",
       "    <tr>\n",
       "      <th>2</th>\n",
       "      <td>Good 😊</td>\n",
       "      <td>5</td>\n",
       "    </tr>\n",
       "    <tr>\n",
       "      <th>3</th>\n",
       "      <td>Bakwas app login is not safe</td>\n",
       "      <td>1</td>\n",
       "    </tr>\n",
       "    <tr>\n",
       "      <th>4</th>\n",
       "      <td>Worst app, they charge cancellation fee even w...</td>\n",
       "      <td>1</td>\n",
       "    </tr>\n",
       "  </tbody>\n",
       "</table>\n",
       "</div>"
      ],
      "text/plain": [
       "                                             content  score\n",
       "0  you have started an option of auto but it is n...      1\n",
       "1                                              Super      5\n",
       "2                                             Good 😊      5\n",
       "3                       Bakwas app login is not safe      1\n",
       "4  Worst app, they charge cancellation fee even w...      1"
      ]
     },
     "execution_count": 8,
     "metadata": {},
     "output_type": "execute_result"
    }
   ],
   "source": [
    "df.head()"
   ]
  },
  {
   "cell_type": "code",
   "execution_count": 13,
   "id": "ec829e9b-2e16-400e-853b-da1bbde76ecc",
   "metadata": {},
   "outputs": [],
   "source": [
    "# Randomly sample 5000 entries\n",
    "df = df.sample(n=5000, random_state=42)"
   ]
  },
  {
   "cell_type": "code",
   "execution_count": 14,
   "id": "024d3e68-030b-4d9e-a7d2-10b7825fa7a9",
   "metadata": {},
   "outputs": [],
   "source": [
    "def lowercase_text(text):\n",
    "    return text.lower()\n",
    "\n",
    "# Apply the lowercase function\n",
    "df['lowercase_text'] = df['content'].apply(lowercase_text)"
   ]
  },
  {
   "cell_type": "code",
   "execution_count": 15,
   "id": "b6adab3d-a995-4014-b7d7-fdf8378cca83",
   "metadata": {},
   "outputs": [],
   "source": [
    "def remove_punctuation(text):\n",
    "    return re.sub(r'[^\\w\\s]', '', text)\n",
    "\n",
    "# Apply the remove punctuation function\n",
    "df['no_punctuation_text'] = df['lowercase_text'].apply(remove_punctuation)"
   ]
  },
  {
   "cell_type": "code",
   "execution_count": 16,
   "id": "de82bb19-a7f1-45ea-9b5d-cc7e50b84f5d",
   "metadata": {},
   "outputs": [],
   "source": [
    "def tokenize_text(text):\n",
    "    return word_tokenize(text)\n",
    "\n",
    "# Apply the tokenization function\n",
    "df['tokenized_text'] = df['no_punctuation_text'].apply(tokenize_text)"
   ]
  },
  {
   "cell_type": "code",
   "execution_count": 17,
   "id": "68e6c5b3-4eaa-431b-ab48-f46f1e5571f6",
   "metadata": {},
   "outputs": [],
   "source": [
    "stop_words = set(stopwords.words('english'))\n",
    "\n",
    "def remove_stopwords(words):\n",
    "    return [word for word in words if word not in stop_words]\n",
    "\n",
    "# Apply the remove stopwords function\n",
    "df['no_stopwords_text'] = df['tokenized_text'].apply(remove_stopwords)"
   ]
  },
  {
   "cell_type": "code",
   "execution_count": 18,
   "id": "84d5d97e-b3a0-4809-b1cb-b0567452addd",
   "metadata": {},
   "outputs": [],
   "source": [
    "lemmatizer = WordNetLemmatizer()\n",
    "\n",
    "def lemmatize_words(words):\n",
    "    return [lemmatizer.lemmatize(word) for word in words]\n",
    "\n",
    "# Apply the lemmatization function\n",
    "df['lemmatized_text'] = df['no_stopwords_text'].apply(lemmatize_words)"
   ]
  },
  {
   "cell_type": "code",
   "execution_count": 19,
   "id": "558fdd75-1daa-428c-910c-46e6d41cc71a",
   "metadata": {},
   "outputs": [],
   "source": [
    "# Join the lemmatized words back into a single string\n",
    "df['cleaned_text'] = df['lemmatized_text'].apply(lambda words: ' '.join(words))"
   ]
  },
  {
   "cell_type": "code",
   "execution_count": 20,
   "id": "1fcf0ea8-2c15-43d6-b1c2-9ebdfb189b46",
   "metadata": {},
   "outputs": [
    {
     "data": {
      "text/html": [
       "<div>\n",
       "<style scoped>\n",
       "    .dataframe tbody tr th:only-of-type {\n",
       "        vertical-align: middle;\n",
       "    }\n",
       "\n",
       "    .dataframe tbody tr th {\n",
       "        vertical-align: top;\n",
       "    }\n",
       "\n",
       "    .dataframe thead th {\n",
       "        text-align: right;\n",
       "    }\n",
       "</style>\n",
       "<table border=\"1\" class=\"dataframe\">\n",
       "  <thead>\n",
       "    <tr style=\"text-align: right;\">\n",
       "      <th></th>\n",
       "      <th>content</th>\n",
       "      <th>score</th>\n",
       "      <th>lowercase_text</th>\n",
       "      <th>no_punctuation_text</th>\n",
       "      <th>tokenized_text</th>\n",
       "      <th>no_stopwords_text</th>\n",
       "      <th>lemmatized_text</th>\n",
       "      <th>cleaned_text</th>\n",
       "    </tr>\n",
       "  </thead>\n",
       "  <tbody>\n",
       "    <tr>\n",
       "      <th>154890</th>\n",
       "      <td>Good</td>\n",
       "      <td>5</td>\n",
       "      <td>good</td>\n",
       "      <td>good</td>\n",
       "      <td>[good]</td>\n",
       "      <td>[good]</td>\n",
       "      <td>[good]</td>\n",
       "      <td>good</td>\n",
       "    </tr>\n",
       "    <tr>\n",
       "      <th>39676</th>\n",
       "      <td>Sab se compney hai Ye Drivar ke liye to bhaut ...</td>\n",
       "      <td>1</td>\n",
       "      <td>sab se compney hai ye drivar ke liye to bhaut ...</td>\n",
       "      <td>sab se compney hai ye drivar ke liye to bhaut ...</td>\n",
       "      <td>[sab, se, compney, hai, ye, drivar, ke, liye, ...</td>\n",
       "      <td>[sab, se, compney, hai, ye, drivar, ke, liye, ...</td>\n",
       "      <td>[sab, se, compney, hai, ye, drivar, ke, liye, ...</td>\n",
       "      <td>sab se compney hai ye drivar ke liye bhaut bek...</td>\n",
       "    </tr>\n",
       "    <tr>\n",
       "      <th>6287</th>\n",
       "      <td>Worst app drivers do not accept the request.</td>\n",
       "      <td>1</td>\n",
       "      <td>worst app drivers do not accept the request.</td>\n",
       "      <td>worst app drivers do not accept the request</td>\n",
       "      <td>[worst, app, drivers, do, not, accept, the, re...</td>\n",
       "      <td>[worst, app, drivers, accept, request]</td>\n",
       "      <td>[worst, app, driver, accept, request]</td>\n",
       "      <td>worst app driver accept request</td>\n",
       "    </tr>\n",
       "    <tr>\n",
       "      <th>40174</th>\n",
       "      <td>Not available in my City Jaunpur</td>\n",
       "      <td>2</td>\n",
       "      <td>not available in my city jaunpur</td>\n",
       "      <td>not available in my city jaunpur</td>\n",
       "      <td>[not, available, in, my, city, jaunpur]</td>\n",
       "      <td>[available, city, jaunpur]</td>\n",
       "      <td>[available, city, jaunpur]</td>\n",
       "      <td>available city jaunpur</td>\n",
       "    </tr>\n",
       "    <tr>\n",
       "      <th>115105</th>\n",
       "      <td>Worst app in the world the driver cancel booki...</td>\n",
       "      <td>1</td>\n",
       "      <td>worst app in the world the driver cancel booki...</td>\n",
       "      <td>worst app in the world the driver cancel booki...</td>\n",
       "      <td>[worst, app, in, the, world, the, driver, canc...</td>\n",
       "      <td>[worst, app, world, driver, cancel, booking, d...</td>\n",
       "      <td>[worst, app, world, driver, cancel, booking, d...</td>\n",
       "      <td>worst app world driver cancel booking despite ...</td>\n",
       "    </tr>\n",
       "  </tbody>\n",
       "</table>\n",
       "</div>"
      ],
      "text/plain": [
       "                                                  content  score  \\\n",
       "154890                                               Good      5   \n",
       "39676   Sab se compney hai Ye Drivar ke liye to bhaut ...      1   \n",
       "6287         Worst app drivers do not accept the request.      1   \n",
       "40174                    Not available in my City Jaunpur      2   \n",
       "115105  Worst app in the world the driver cancel booki...      1   \n",
       "\n",
       "                                           lowercase_text  \\\n",
       "154890                                               good   \n",
       "39676   sab se compney hai ye drivar ke liye to bhaut ...   \n",
       "6287         worst app drivers do not accept the request.   \n",
       "40174                    not available in my city jaunpur   \n",
       "115105  worst app in the world the driver cancel booki...   \n",
       "\n",
       "                                      no_punctuation_text  \\\n",
       "154890                                               good   \n",
       "39676   sab se compney hai ye drivar ke liye to bhaut ...   \n",
       "6287          worst app drivers do not accept the request   \n",
       "40174                    not available in my city jaunpur   \n",
       "115105  worst app in the world the driver cancel booki...   \n",
       "\n",
       "                                           tokenized_text  \\\n",
       "154890                                             [good]   \n",
       "39676   [sab, se, compney, hai, ye, drivar, ke, liye, ...   \n",
       "6287    [worst, app, drivers, do, not, accept, the, re...   \n",
       "40174             [not, available, in, my, city, jaunpur]   \n",
       "115105  [worst, app, in, the, world, the, driver, canc...   \n",
       "\n",
       "                                        no_stopwords_text  \\\n",
       "154890                                             [good]   \n",
       "39676   [sab, se, compney, hai, ye, drivar, ke, liye, ...   \n",
       "6287               [worst, app, drivers, accept, request]   \n",
       "40174                          [available, city, jaunpur]   \n",
       "115105  [worst, app, world, driver, cancel, booking, d...   \n",
       "\n",
       "                                          lemmatized_text  \\\n",
       "154890                                             [good]   \n",
       "39676   [sab, se, compney, hai, ye, drivar, ke, liye, ...   \n",
       "6287                [worst, app, driver, accept, request]   \n",
       "40174                          [available, city, jaunpur]   \n",
       "115105  [worst, app, world, driver, cancel, booking, d...   \n",
       "\n",
       "                                             cleaned_text  \n",
       "154890                                               good  \n",
       "39676   sab se compney hai ye drivar ke liye bhaut bek...  \n",
       "6287                      worst app driver accept request  \n",
       "40174                              available city jaunpur  \n",
       "115105  worst app world driver cancel booking despite ...  "
      ]
     },
     "execution_count": 20,
     "metadata": {},
     "output_type": "execute_result"
    }
   ],
   "source": [
    "df.head()"
   ]
  },
  {
   "cell_type": "code",
   "execution_count": 21,
   "id": "0fd84b7d-57bd-4e8a-a392-1cd5c0c757da",
   "metadata": {},
   "outputs": [],
   "source": [
    "# Initialize TfidfVectorizer\n",
    "vectorizer_tfidf = TfidfVectorizer()\n",
    "X_tfidf = vectorizer_tfidf.fit_transform(df['cleaned_text'])"
   ]
  },
  {
   "cell_type": "code",
   "execution_count": 22,
   "id": "827c3d11-81da-44fc-94ff-693f4f8e7c72",
   "metadata": {},
   "outputs": [
    {
     "name": "stderr",
     "output_type": "stream",
     "text": [
      "C:\\Users\\mukul\\anaconda3\\Lib\\site-packages\\keras\\src\\layers\\core\\dense.py:87: UserWarning: Do not pass an `input_shape`/`input_dim` argument to a layer. When using Sequential models, prefer using an `Input(shape)` object as the first layer in the model instead.\n",
      "  super().__init__(activity_regularizer=activity_regularizer, **kwargs)\n"
     ]
    },
    {
     "data": {
      "text/html": [
       "<pre style=\"white-space:pre;overflow-x:auto;line-height:normal;font-family:Menlo,'DejaVu Sans Mono',consolas,'Courier New',monospace\"><span style=\"font-weight: bold\">Model: \"sequential\"</span>\n",
       "</pre>\n"
      ],
      "text/plain": [
       "\u001b[1mModel: \"sequential\"\u001b[0m\n"
      ]
     },
     "metadata": {},
     "output_type": "display_data"
    },
    {
     "data": {
      "text/html": [
       "<pre style=\"white-space:pre;overflow-x:auto;line-height:normal;font-family:Menlo,'DejaVu Sans Mono',consolas,'Courier New',monospace\">┏━━━━━━━━━━━━━━━━━━━━━━━━━━━━━━━━━━━━━━┳━━━━━━━━━━━━━━━━━━━━━━━━━━━━━┳━━━━━━━━━━━━━━━━━┓\n",
       "┃<span style=\"font-weight: bold\"> Layer (type)                         </span>┃<span style=\"font-weight: bold\"> Output Shape                </span>┃<span style=\"font-weight: bold\">         Param # </span>┃\n",
       "┡━━━━━━━━━━━━━━━━━━━━━━━━━━━━━━━━━━━━━━╇━━━━━━━━━━━━━━━━━━━━━━━━━━━━━╇━━━━━━━━━━━━━━━━━┩\n",
       "│ dense (<span style=\"color: #0087ff; text-decoration-color: #0087ff\">Dense</span>)                        │ (<span style=\"color: #00d7ff; text-decoration-color: #00d7ff\">None</span>, <span style=\"color: #00af00; text-decoration-color: #00af00\">512</span>)                 │       <span style=\"color: #00af00; text-decoration-color: #00af00\">3,406,336</span> │\n",
       "├──────────────────────────────────────┼─────────────────────────────┼─────────────────┤\n",
       "│ dropout (<span style=\"color: #0087ff; text-decoration-color: #0087ff\">Dropout</span>)                    │ (<span style=\"color: #00d7ff; text-decoration-color: #00d7ff\">None</span>, <span style=\"color: #00af00; text-decoration-color: #00af00\">512</span>)                 │               <span style=\"color: #00af00; text-decoration-color: #00af00\">0</span> │\n",
       "├──────────────────────────────────────┼─────────────────────────────┼─────────────────┤\n",
       "│ dense_1 (<span style=\"color: #0087ff; text-decoration-color: #0087ff\">Dense</span>)                      │ (<span style=\"color: #00d7ff; text-decoration-color: #00d7ff\">None</span>, <span style=\"color: #00af00; text-decoration-color: #00af00\">256</span>)                 │         <span style=\"color: #00af00; text-decoration-color: #00af00\">131,328</span> │\n",
       "├──────────────────────────────────────┼─────────────────────────────┼─────────────────┤\n",
       "│ dropout_1 (<span style=\"color: #0087ff; text-decoration-color: #0087ff\">Dropout</span>)                  │ (<span style=\"color: #00d7ff; text-decoration-color: #00d7ff\">None</span>, <span style=\"color: #00af00; text-decoration-color: #00af00\">256</span>)                 │               <span style=\"color: #00af00; text-decoration-color: #00af00\">0</span> │\n",
       "├──────────────────────────────────────┼─────────────────────────────┼─────────────────┤\n",
       "│ dense_2 (<span style=\"color: #0087ff; text-decoration-color: #0087ff\">Dense</span>)                      │ (<span style=\"color: #00d7ff; text-decoration-color: #00d7ff\">None</span>, <span style=\"color: #00af00; text-decoration-color: #00af00\">5</span>)                   │           <span style=\"color: #00af00; text-decoration-color: #00af00\">1,285</span> │\n",
       "└──────────────────────────────────────┴─────────────────────────────┴─────────────────┘\n",
       "</pre>\n"
      ],
      "text/plain": [
       "┏━━━━━━━━━━━━━━━━━━━━━━━━━━━━━━━━━━━━━━┳━━━━━━━━━━━━━━━━━━━━━━━━━━━━━┳━━━━━━━━━━━━━━━━━┓\n",
       "┃\u001b[1m \u001b[0m\u001b[1mLayer (type)                        \u001b[0m\u001b[1m \u001b[0m┃\u001b[1m \u001b[0m\u001b[1mOutput Shape               \u001b[0m\u001b[1m \u001b[0m┃\u001b[1m \u001b[0m\u001b[1m        Param #\u001b[0m\u001b[1m \u001b[0m┃\n",
       "┡━━━━━━━━━━━━━━━━━━━━━━━━━━━━━━━━━━━━━━╇━━━━━━━━━━━━━━━━━━━━━━━━━━━━━╇━━━━━━━━━━━━━━━━━┩\n",
       "│ dense (\u001b[38;5;33mDense\u001b[0m)                        │ (\u001b[38;5;45mNone\u001b[0m, \u001b[38;5;34m512\u001b[0m)                 │       \u001b[38;5;34m3,406,336\u001b[0m │\n",
       "├──────────────────────────────────────┼─────────────────────────────┼─────────────────┤\n",
       "│ dropout (\u001b[38;5;33mDropout\u001b[0m)                    │ (\u001b[38;5;45mNone\u001b[0m, \u001b[38;5;34m512\u001b[0m)                 │               \u001b[38;5;34m0\u001b[0m │\n",
       "├──────────────────────────────────────┼─────────────────────────────┼─────────────────┤\n",
       "│ dense_1 (\u001b[38;5;33mDense\u001b[0m)                      │ (\u001b[38;5;45mNone\u001b[0m, \u001b[38;5;34m256\u001b[0m)                 │         \u001b[38;5;34m131,328\u001b[0m │\n",
       "├──────────────────────────────────────┼─────────────────────────────┼─────────────────┤\n",
       "│ dropout_1 (\u001b[38;5;33mDropout\u001b[0m)                  │ (\u001b[38;5;45mNone\u001b[0m, \u001b[38;5;34m256\u001b[0m)                 │               \u001b[38;5;34m0\u001b[0m │\n",
       "├──────────────────────────────────────┼─────────────────────────────┼─────────────────┤\n",
       "│ dense_2 (\u001b[38;5;33mDense\u001b[0m)                      │ (\u001b[38;5;45mNone\u001b[0m, \u001b[38;5;34m5\u001b[0m)                   │           \u001b[38;5;34m1,285\u001b[0m │\n",
       "└──────────────────────────────────────┴─────────────────────────────┴─────────────────┘\n"
      ]
     },
     "metadata": {},
     "output_type": "display_data"
    },
    {
     "data": {
      "text/html": [
       "<pre style=\"white-space:pre;overflow-x:auto;line-height:normal;font-family:Menlo,'DejaVu Sans Mono',consolas,'Courier New',monospace\"><span style=\"font-weight: bold\"> Total params: </span><span style=\"color: #00af00; text-decoration-color: #00af00\">3,538,949</span> (13.50 MB)\n",
       "</pre>\n"
      ],
      "text/plain": [
       "\u001b[1m Total params: \u001b[0m\u001b[38;5;34m3,538,949\u001b[0m (13.50 MB)\n"
      ]
     },
     "metadata": {},
     "output_type": "display_data"
    },
    {
     "data": {
      "text/html": [
       "<pre style=\"white-space:pre;overflow-x:auto;line-height:normal;font-family:Menlo,'DejaVu Sans Mono',consolas,'Courier New',monospace\"><span style=\"font-weight: bold\"> Trainable params: </span><span style=\"color: #00af00; text-decoration-color: #00af00\">3,538,949</span> (13.50 MB)\n",
       "</pre>\n"
      ],
      "text/plain": [
       "\u001b[1m Trainable params: \u001b[0m\u001b[38;5;34m3,538,949\u001b[0m (13.50 MB)\n"
      ]
     },
     "metadata": {},
     "output_type": "display_data"
    },
    {
     "data": {
      "text/html": [
       "<pre style=\"white-space:pre;overflow-x:auto;line-height:normal;font-family:Menlo,'DejaVu Sans Mono',consolas,'Courier New',monospace\"><span style=\"font-weight: bold\"> Non-trainable params: </span><span style=\"color: #00af00; text-decoration-color: #00af00\">0</span> (0.00 B)\n",
       "</pre>\n"
      ],
      "text/plain": [
       "\u001b[1m Non-trainable params: \u001b[0m\u001b[38;5;34m0\u001b[0m (0.00 B)\n"
      ]
     },
     "metadata": {},
     "output_type": "display_data"
    }
   ],
   "source": [
    "start_time = time.time()\n",
    "\n",
    "# Prepare labels for multi-class classification\n",
    "encoder = LabelEncoder()\n",
    "y_encoded = encoder.fit_transform(df['score'])  # Convert labels to 0-based integers\n",
    "y_categorical = to_categorical(y_encoded)  # Convert integer labels to one-hot\n",
    "\n",
    "# Split the data\n",
    "X_train, X_test, y_train, y_test = train_test_split(X_tfidf, y_categorical, test_size=0.2, random_state=42)\n",
    "\n",
    "# Define the model\n",
    "model_nn_tfidf = Sequential([\n",
    "    Dense(512, activation='relu', input_dim=X_train.shape[1]),\n",
    "    Dropout(0.5),\n",
    "    Dense(256, activation='relu'),\n",
    "    Dropout(0.5),\n",
    "    Dense(5, activation='softmax')  # One output unit per class\n",
    "])\n",
    "\n",
    "# Compile the model\n",
    "model_nn_tfidf.compile(optimizer='adam',\n",
    "                       loss='categorical_crossentropy',  # Suitable for multi-class classification\n",
    "                       metrics=['accuracy'])\n",
    "\n",
    "# Model summary\n",
    "model_nn_tfidf.summary()\n"
   ]
  },
  {
   "cell_type": "code",
   "execution_count": 23,
   "id": "1d8a5a04-70b2-4dea-9471-3ce64a7c4e83",
   "metadata": {},
   "outputs": [
    {
     "name": "stdout",
     "output_type": "stream",
     "text": [
      "\u001b[1m125/125\u001b[0m \u001b[32m━━━━━━━━━━━━━━━━━━━━\u001b[0m\u001b[37m\u001b[0m \u001b[1m4s\u001b[0m 22ms/step - accuracy: 0.6408 - loss: 1.0787 - val_accuracy: 0.8170 - val_loss: 0.6617\n"
     ]
    }
   ],
   "source": [
    "# Train the model\n",
    "history = model_nn_tfidf.fit(X_train, y_train,\n",
    "                             epochs=1,\n",
    "                             batch_size=32,\n",
    "                             validation_data=(X_test, y_test),\n",
    "                             verbose=1)"
   ]
  },
  {
   "cell_type": "code",
   "execution_count": 24,
   "id": "be7ed84c-bd9b-43c6-8f25-9953cac25fa0",
   "metadata": {},
   "outputs": [
    {
     "name": "stdout",
     "output_type": "stream",
     "text": [
      "TF-IDF Vectorizer using Neural Network\n",
      "Test Accuracy: 0.8169999718666077\n",
      "\u001b[1m32/32\u001b[0m \u001b[32m━━━━━━━━━━━━━━━━━━━━\u001b[0m\u001b[37m\u001b[0m \u001b[1m0s\u001b[0m 4ms/step\n",
      "Classification Report:\n",
      "              precision    recall  f1-score   support\n",
      "\n",
      "           1       0.84      0.96      0.90       552\n",
      "           2       0.00      0.00      0.00        40\n",
      "           3       0.00      0.00      0.00        36\n",
      "           4       0.00      0.00      0.00        62\n",
      "           5       0.78      0.92      0.84       310\n",
      "\n",
      "    accuracy                           0.82      1000\n",
      "   macro avg       0.32      0.38      0.35      1000\n",
      "weighted avg       0.70      0.82      0.76      1000\n",
      "\n",
      "Execution time: 7.49054741859436 seconds\n"
     ]
    },
    {
     "name": "stderr",
     "output_type": "stream",
     "text": [
      "C:\\Users\\mukul\\anaconda3\\Lib\\site-packages\\sklearn\\metrics\\_classification.py:1509: UndefinedMetricWarning: Precision is ill-defined and being set to 0.0 in labels with no predicted samples. Use `zero_division` parameter to control this behavior.\n",
      "  _warn_prf(average, modifier, f\"{metric.capitalize()} is\", len(result))\n",
      "C:\\Users\\mukul\\anaconda3\\Lib\\site-packages\\sklearn\\metrics\\_classification.py:1509: UndefinedMetricWarning: Precision is ill-defined and being set to 0.0 in labels with no predicted samples. Use `zero_division` parameter to control this behavior.\n",
      "  _warn_prf(average, modifier, f\"{metric.capitalize()} is\", len(result))\n",
      "C:\\Users\\mukul\\anaconda3\\Lib\\site-packages\\sklearn\\metrics\\_classification.py:1509: UndefinedMetricWarning: Precision is ill-defined and being set to 0.0 in labels with no predicted samples. Use `zero_division` parameter to control this behavior.\n",
      "  _warn_prf(average, modifier, f\"{metric.capitalize()} is\", len(result))\n"
     ]
    }
   ],
   "source": [
    "# Evaluate the model on the test data\n",
    "loss, accuracy_nn_tfidf = model_nn_tfidf.evaluate(X_test, y_test, verbose=0)\n",
    "print('TF-IDF Vectorizer using Neural Network')\n",
    "print('Test Accuracy:', accuracy_nn_tfidf)\n",
    "\n",
    "# Make predictions (return probabilities)\n",
    "y_pred_nn_tfidf_prob = model_nn_tfidf.predict(X_test)\n",
    "y_pred_nn_tfidf = encoder.inverse_transform(y_pred_nn_tfidf_prob.argmax(axis=1))  # Convert probabilities to labels\n",
    "\n",
    "# Convert one-hot encoded test labels back to labels\n",
    "y_test_labels = encoder.inverse_transform(y_test.argmax(axis=1))\n",
    "\n",
    "print('Classification Report:')\n",
    "print(classification_report(y_test_labels, y_pred_nn_tfidf))\n",
    "\n",
    "end_time = time.time()\n",
    "time_nn_tfidf = end_time - start_time\n",
    "print(f\"Execution time: {end_time - start_time} seconds\")"
   ]
  },
  {
   "cell_type": "code",
   "execution_count": null,
   "id": "d629c667-6651-4afc-ac9f-9bc7c572c5e2",
   "metadata": {},
   "outputs": [],
   "source": []
  }
 ],
 "metadata": {
  "kernelspec": {
   "display_name": "Python 3 (ipykernel)",
   "language": "python",
   "name": "python3"
  },
  "language_info": {
   "codemirror_mode": {
    "name": "ipython",
    "version": 3
   },
   "file_extension": ".py",
   "mimetype": "text/x-python",
   "name": "python",
   "nbconvert_exporter": "python",
   "pygments_lexer": "ipython3",
   "version": "3.11.5"
  }
 },
 "nbformat": 4,
 "nbformat_minor": 5
}
